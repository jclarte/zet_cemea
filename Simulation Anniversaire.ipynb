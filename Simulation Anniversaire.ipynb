{
 "cells": [
  {
   "cell_type": "markdown",
   "id": "200457ba",
   "metadata": {},
   "source": [
    "# Simulation du paradoxe des anniversaires\n",
    "\n",
    "On se propose d'effctuer une simulation du paradoxe des anniversaire dans le cas d'un groupe de 30 personnes.\n",
    "\n",
    "L'énoncé peut se résumer de la manière suivante : **on prend 30 personnes au hasard dans la population, quelle est la probabilité qu'au moins deux personnes aient la même date d'anniversaire**\n",
    "\n",
    "On supposera qu'il y a 365 jours par an et que la répartition des dates d'anniversaire dans l'année suit une loi uniforme (chaque jour a une probabilité $\\frac{1}{365}$ de tomber)."
   ]
  },
  {
   "cell_type": "code",
   "execution_count": 1,
   "id": "e1604c33",
   "metadata": {},
   "outputs": [],
   "source": [
    "from math import factorial\n",
    "from random import randint\n",
    "from itertools import combinations\n",
    "\n",
    "import matplotlib.pyplot as plt\n",
    "%matplotlib inline"
   ]
  },
  {
   "cell_type": "markdown",
   "id": "1dae42a8",
   "metadata": {},
   "source": [
    "## 1. échantillon\n",
    "\n",
    "La première étape consiste à modéliser le tirage de 30 personnes dans une population. On le modélise avec une liste de 30 nombres tirés au hasard."
   ]
  },
  {
   "cell_type": "code",
   "execution_count": 2,
   "id": "9ed4675b",
   "metadata": {},
   "outputs": [],
   "source": [
    "def echantillon():\n",
    "    return [randint(1, 365) for _ in range(30)]"
   ]
  },
  {
   "cell_type": "code",
   "execution_count": 3,
   "id": "349f93d4",
   "metadata": {},
   "outputs": [
    {
     "name": "stdout",
     "output_type": "stream",
     "text": [
      "Exemple: 82,52,224,295,266,193,13,363,14,290,86,253,276,289,64,142,249,208,241,97,362,350,291,20,47,60,232,191,148,22\n"
     ]
    }
   ],
   "source": [
    "exemple = echantillon()\n",
    "print(\"Exemple:\", ','.join(map(str, exemple)))"
   ]
  },
  {
   "cell_type": "markdown",
   "id": "37748cf7",
   "metadata": {},
   "source": [
    "Comme il n'est pas très facile de lire cela, on va supposer que cela ne change rien si on trie cette liste"
   ]
  },
  {
   "cell_type": "code",
   "execution_count": 4,
   "id": "2583c001",
   "metadata": {},
   "outputs": [],
   "source": [
    "def echantillon_trie():\n",
    "    return sorted([randint(1, 365) for _ in range(30)])"
   ]
  },
  {
   "cell_type": "code",
   "execution_count": 5,
   "id": "596b1a86",
   "metadata": {},
   "outputs": [
    {
     "name": "stdout",
     "output_type": "stream",
     "text": [
      "Exemple: 8,19,59,65,69,72,75,84,101,105,118,133,165,185,196,198,218,232,247,267,282,287,309,309,310,321,326,327,327,338\n"
     ]
    }
   ],
   "source": [
    "exemple = echantillon_trie()\n",
    "print(\"Exemple:\", ','.join(map(str, exemple)))"
   ]
  },
  {
   "cell_type": "markdown",
   "id": "7733c16a",
   "metadata": {},
   "source": [
    "## 2. anniversaires\n",
    "\n",
    "Maintenant, il s'agit de regarder, sur un échantillon obtenu, de voir si 2 personens du groupe ont la même date d'anniversaire. Dans notre modèle, cela revient à regarder si deux éléments de la liste ont la même valeur."
   ]
  },
  {
   "cell_type": "code",
   "execution_count": 6,
   "id": "f3fee68b",
   "metadata": {},
   "outputs": [],
   "source": [
    "def anniversaire(liste):\n",
    "    for p1, p2 in combinations(liste, 2):  # toutes les combinaisons de deux éléments pris dans la liste\n",
    "        if p1 == p2:\n",
    "            return True  # si à un moment je trouve un p2 égal à un p1\n",
    "    return False"
   ]
  },
  {
   "cell_type": "markdown",
   "id": "fbae6588",
   "metadata": {},
   "source": [
    "### Note d'optimisation\n",
    "\n",
    "Si on veut faire ça de manière plus propore, on va éviter de faire autant de comparaison. On n'a même pas vraiment besoin d'un parcours de la liste. Un exemple (parmis d'autres) ci-dessous :"
   ]
  },
  {
   "cell_type": "code",
   "execution_count": 7,
   "id": "254dac09",
   "metadata": {},
   "outputs": [],
   "source": [
    "def anniversaire(liste):\n",
    "    return len(set(liste)) != len(liste)"
   ]
  },
  {
   "cell_type": "markdown",
   "id": "c4b0d221",
   "metadata": {},
   "source": [
    "### Test\n",
    "\n",
    "Pour vérifier que notre fonction fait bien le travail, testons cela sur quelques exemple."
   ]
  },
  {
   "cell_type": "code",
   "execution_count": 8,
   "id": "d18e231b",
   "metadata": {},
   "outputs": [
    {
     "name": "stdout",
     "output_type": "stream",
     "text": [
      "Exhantillon: [18, 28, 41, 50, 54, 55, 55, 76, 78, 90, 128, 151, 154, 168, 168, 176, 197, 205, 213, 215, 221, 228, 228, 247, 313, 322, 328, 329, 338, 339], anniversaires ? True\n",
      "\n",
      "Exhantillon: [19, 31, 32, 60, 66, 73, 76, 91, 96, 105, 118, 124, 138, 160, 167, 175, 185, 209, 217, 217, 228, 230, 291, 291, 322, 324, 325, 338, 339, 356], anniversaires ? True\n",
      "\n",
      "Exhantillon: [5, 5, 15, 18, 18, 63, 63, 67, 69, 103, 107, 109, 125, 153, 160, 169, 183, 186, 189, 194, 218, 218, 245, 246, 262, 278, 326, 335, 349, 363], anniversaires ? True\n",
      "\n",
      "Exhantillon: [31, 42, 43, 64, 76, 86, 89, 97, 100, 161, 212, 214, 232, 239, 250, 257, 258, 262, 270, 292, 300, 325, 326, 342, 342, 344, 346, 350, 352, 353], anniversaires ? True\n",
      "\n",
      "Exhantillon: [5, 7, 42, 52, 52, 53, 57, 87, 93, 94, 98, 104, 112, 147, 149, 150, 150, 173, 178, 189, 190, 214, 230, 277, 291, 304, 334, 336, 338, 347], anniversaires ? True\n",
      "\n"
     ]
    }
   ],
   "source": [
    "for _ in range(5):\n",
    "    e = echantillon_trie()\n",
    "    a = anniversaire(e)\n",
    "    print(f\"Exhantillon: {e}, anniversaires ? {a}\\n\")"
   ]
  },
  {
   "cell_type": "markdown",
   "id": "a998a1a6",
   "metadata": {},
   "source": [
    "## 2. simulations\n",
    "\n",
    "Maintenant, pour évaluer la 'probabilité', on va effectuer un grand nombre de simulations, et regarder quelle est la fréquence d'apparition de l'événement '2 personnes ont leur anniversaire en commun'"
   ]
  },
  {
   "cell_type": "code",
   "execution_count": 11,
   "id": "ed2355d7",
   "metadata": {},
   "outputs": [],
   "source": [
    "def simulation(n_sim):\n",
    "    success = 0\n",
    "    frequences = []\n",
    "    for i in range(n_sim):\n",
    "        if anniversaire(echantillon_trie()):\n",
    "            success += 1\n",
    "        frequences.append(success/(i+1))\n",
    "    print(f\"Nb de succès:{success}, ratio:{success/n_sim:.2%}\")\n",
    "    return success, frequences"
   ]
  },
  {
   "cell_type": "code",
   "execution_count": 20,
   "id": "cf88ad09",
   "metadata": {},
   "outputs": [
    {
     "name": "stdout",
     "output_type": "stream",
     "text": [
      "Nb de succès:1417, ratio:70.85%\n"
     ]
    }
   ],
   "source": [
    "s, f = simulation(2000)"
   ]
  },
  {
   "cell_type": "code",
   "execution_count": 21,
   "id": "37833bc7",
   "metadata": {},
   "outputs": [
    {
     "data": {
      "text/plain": [
       "[<matplotlib.lines.Line2D at 0x7f0681ce8160>]"
      ]
     },
     "execution_count": 21,
     "metadata": {},
     "output_type": "execute_result"
    },
    {
     "data": {
      "image/png": "[encoded data removed]",
      "text/plain": [
       "<Figure size 432x288 with 1 Axes>"
      ]
     },
     "metadata": {
      "needs_background": "light"
     },
     "output_type": "display_data"
    }
   ],
   "source": [
    "plt.plot(f)"
   ]
  },
  {
   "cell_type": "code",
   "execution_count": 22,
   "id": "39062e83",
   "metadata": {},
   "outputs": [
    {
     "name": "stdout",
     "output_type": "stream",
     "text": [
      "Fréquence finale: 70.85%\n"
     ]
    }
   ],
   "source": [
    "print(f\"Fréquence finale: {f[-1]:.2%}\")"
   ]
  },
  {
   "cell_type": "code",
   "execution_count": null,
   "id": "545436da",
   "metadata": {},
   "outputs": [],
   "source": []
  }
 ],
 "metadata": {
  "kernelspec": {
   "display_name": "Python 3 (ipykernel)",
   "language": "python",
   "name": "python3"
  },
  "language_info": {
   "codemirror_mode": {
    "name": "ipython",
    "version": 3
   },
   "file_extension": ".py",
   "mimetype": "text/x-python",
   "name": "python",
   "nbconvert_exporter": "python",
   "pygments_lexer": "ipython3",
   "version": "3.8.12"
  }
 },
 "nbformat": 4,
 "nbformat_minor": 5
}
